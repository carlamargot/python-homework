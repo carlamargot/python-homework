{
 "cells": [
  {
   "cell_type": "code",
   "execution_count": 1,
   "metadata": {},
   "outputs": [],
   "source": [
    "import pathlib as Path\n",
    "import csv"
   ]
  },
  {
   "cell_type": "code",
   "execution_count": 2,
   "metadata": {},
   "outputs": [],
   "source": [
    "## this are the variables that i am looking for \n",
    "total_months=0\n",
    "net_profit_loss=0\n",
    "average_change=0\n",
    "greatest_increase=0\n",
    "greatest_increase_month=\"\"\n",
    "greatest_loss=0\n",
    "greatest_loss_month=\"\""
   ]
  },
  {
   "cell_type": "code",
   "execution_count": 3,
   "metadata": {},
   "outputs": [
    {
     "name": "stdout",
     "output_type": "stream",
     "text": [
      "38382578\n",
      "86\n"
     ]
    }
   ],
   "source": [
    "with open(\"PyBank_Data.csv\",\"r\")as csv_file:\n",
    "    csv_reader=csv.reader(csv_file,delimiter=',')\n",
    "    list_of_months=[] \n",
    "    list_of_profitLoss=[]\n",
    "    int_profitLoss=[]\n",
    "\n",
    "    for row in csv_reader:\n",
    "        list_of_months.append(row[0])\n",
    "        list_of_profitLoss.append(row[1])\n",
    "\n",
    "list_of_profitLoss.pop(0)\n",
    "for x in list_of_profitLoss:\n",
    "    int_profitLoss.append(int(x))\n",
    "\n",
    "\n",
    "\n",
    "list_of_months.pop(0)\n",
    "total_months=len(list_of_months)\n",
    "\n",
    "net_profit_loss=sum(int_profitLoss)\n",
    "print(net_profit_loss)\n",
    "print(len(list_of_months))\n",
    "\n",
    "## this is the sum of profit/losses\n",
    "## number of unique months ' list_of_month' "
   ]
  },
  {
   "cell_type": "code",
   "execution_count": 4,
   "metadata": {},
   "outputs": [
    {
     "name": "stdout",
     "output_type": "stream",
     "text": [
      "86\n"
     ]
    }
   ],
   "source": [
    "## int_profitloss\n",
    "\n",
    "print(len(int_profitLoss)) "
   ]
  },
  {
   "cell_type": "code",
   "execution_count": 24,
   "metadata": {},
   "outputs": [
    {
     "name": "stdout",
     "output_type": "stream",
     "text": [
      "-2315.12\n"
     ]
    }
   ],
   "source": [
    "list_average_change=[]\n",
    "\n",
    "for i in range(1,len(int_profitLoss)):\n",
    "    difference=int_profitLoss[i]-int_profitLoss[i-1]\n",
    "    list_average_change.append(difference)\n",
    "    average=sum(list_average_change)/len(int_profitLoss[1:])\n",
    "\n",
    "   \n",
    "\n",
    "\n",
    "rounded_average=round(average,2)  \n",
    "print(rounded_average)"
   ]
  },
  {
   "cell_type": "code",
   "execution_count": 56,
   "metadata": {},
   "outputs": [
    {
     "name": "stdout",
     "output_type": "stream",
     "text": [
      "24\n",
      "Jan-2012\n"
     ]
    }
   ],
   "source": [
    "## finding the greatest in profits and month\n",
    "\n",
    "greatest_increase=1926159 ## saving it to a variable \n",
    "\n",
    "## need to find the matching month\n",
    "index_max=list_average_change.index(1926159)\n",
    "print(index_max)\n",
    "print(list_of_months[24])\n"
   ]
  },
  {
   "cell_type": "code",
   "execution_count": 57,
   "metadata": {},
   "outputs": [
    {
     "name": "stdout",
     "output_type": "stream",
     "text": [
      "-2196167\n",
      "43\n"
     ]
    }
   ],
   "source": [
    "## greatest decrease in loss and index to max\n",
    "greatest_loss=(min(list_average_change))\n",
    "print(greatest_loss)\n",
    "\n",
    "index_min=list_average_change.index(-2196167)\n",
    "print(index_min)"
   ]
  },
  {
   "cell_type": "code",
   "execution_count": 98,
   "metadata": {},
   "outputs": [
    {
     "data": {
      "text/plain": [
       "'Aug-2013'"
      ]
     },
     "execution_count": 98,
     "metadata": {},
     "output_type": "execute_result"
    }
   ],
   "source": [
    "list_of_months[43]\n"
   ]
  },
  {
   "cell_type": "code",
   "execution_count": 115,
   "metadata": {},
   "outputs": [],
   "source": [
    "new_file=open(\"PyBank_txt\",\"w+\")\n",
    "\n",
    "new_file.write(f\" Final Analysis \\n ------------- \\n Total Months:{total_months},\\n Total: ${net_profit_loss}\\n Average Change: ${rounded_average}, \\n Greatest Increase in Profits:{list_of_months[24+1]},${greatest_increase},\\n Greatest Decrease in Profits: {list_of_months[43+1]},${greatest_loss}\")\n",
    "\n",
    "new_file.close()\n",
    "\n",
    "    "
   ]
  },
  {
   "cell_type": "code",
   "execution_count": null,
   "metadata": {},
   "outputs": [],
   "source": []
  }
 ],
 "metadata": {
  "kernelspec": {
   "display_name": "Python 3",
   "language": "python",
   "name": "python3"
  },
  "language_info": {
   "codemirror_mode": {
    "name": "ipython",
    "version": 3
   },
   "file_extension": ".py",
   "mimetype": "text/x-python",
   "name": "python",
   "nbconvert_exporter": "python",
   "pygments_lexer": "ipython3",
   "version": "3.8.3"
  }
 },
 "nbformat": 4,
 "nbformat_minor": 4
}
